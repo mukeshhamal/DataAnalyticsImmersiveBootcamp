{
 "cells": [
  {
   "cell_type": "code",
   "execution_count": 1,
   "metadata": {},
   "outputs": [],
   "source": [
    "# importing the required libraries\n",
    "import nltk\n",
    "from nltk.tokenize import word_tokenize\n",
    "from nltk.probability import FreqDist\n",
    "from nltk.corpus import stopwords\n",
    "from string import punctuation"
   ]
  },
  {
   "cell_type": "code",
   "execution_count": 2,
   "metadata": {},
   "outputs": [
    {
     "name": "stdout",
     "output_type": "stream",
     "text": [
      "THE TWELVE DANCING PRINCESSES\n",
      "\n",
      "There was a king who had twelve beautiful daughters. They slept in\n",
      "twelve beds all in one room; and when they went to bed, the doors were\n",
      "shut and locked up; but every morning their shoes were found to be quite\n",
      "worn through as if they had been danced in all night; and yet nobody\n",
      "could find out how it happened, or where they had been.\n",
      "\n",
      "Then the king made it known to all the land, that if any person could\n",
      "discover the secret, and find out where it was that the princesses\n",
      "danced in the night, he should have the one he liked best for his\n",
      "wife, and should be king after his death; but whoever tried and did not\n",
      "succeed, after three days and nights, should be put to death.\n",
      "\n",
      "A king’s son soon came. He was well entertained, and in the evening was\n",
      "taken to the chamber next to the one where the princesses lay in their\n",
      "twelve beds. There he was to sit and watch where they went to dance;\n",
      "and, in order that nothing might pass without his hearing it, the door\n",
      "of his chamber was left open. But the king’s son soon fell asleep; and\n",
      "when he awoke in the morning he found that the princesses had all been\n",
      "dancing, for the soles of their shoes were full of holes. The same thing\n",
      "happened the second and third night: so the king ordered his head to be\n",
      "cut off. After him came several others; but they had all the same luck,\n",
      "and all lost their lives in the same manner.\n",
      "\n",
      "Now it chanced that an old soldier, who had been wounded in battle\n",
      "and could fight no longer, passed through the country where this king\n",
      "reigned: and as he was travelling through a wood, he met an old woman,\n",
      "who asked him where he was going. ‘I hardly know where I am going, or\n",
      "what I had better do,’ said the soldier; ‘but I think I should like very\n",
      "well to find out where it is that the princesses dance, and then in time\n",
      "I might be a king.’ ‘Well,’ said the old dame, ‘that is no very hard\n",
      "task: only take care not to drink any of the wine which one of the\n",
      "princesses will bring to you in the evening; and as soon as she leaves\n",
      "you pretend to be fast asleep.’\n",
      "\n",
      "Then she gave him a cloak, and said, ‘As soon as you put that on\n",
      "you will become invisible, and you will then be able to follow the\n",
      "princesses wherever they go.’ When the soldier heard all this good\n",
      "counsel, he determined to try his luck: so he went to the king, and said\n",
      "he was willing to undertake the task.\n",
      "\n",
      "He was as well received as the others had been, and the king ordered\n",
      "fine royal robes to be given him; and when the evening came he was led\n",
      "to the outer chamber. Just as he was going to lie down, the eldest of\n",
      "the princesses brought him a cup of wine; but the soldier threw it all\n",
      "away secretly, taking care not to drink a drop. Then he laid himself\n",
      "down on his bed, and in a little while began to snore very loud as if\n",
      "he was fast asleep. When the twelve princesses heard this they laughed\n",
      "heartily; and the eldest said, ‘This fellow too might have done a wiser\n",
      "thing than lose his life in this way!’ Then they rose up and opened\n",
      "their drawers and boxes, and took out all their fine clothes, and\n",
      "dressed themselves at the glass, and skipped about as if they were eager\n",
      "to begin dancing. But the youngest said, ‘I don’t know how it is, while\n",
      "you are so happy I feel very uneasy; I am sure some mischance will\n",
      "befall us.’ ‘You simpleton,’ said the eldest, ‘you are always afraid;\n",
      "have you forgotten how many kings’ sons have already watched in vain?\n",
      "And as for this soldier, even if I had not given him his sleeping\n",
      "draught, he would have slept soundly enough.’\n",
      "\n",
      "When they were all ready, they went and looked at the soldier; but he\n",
      "snored on, and did not stir hand or foot: so they thought they were\n",
      "quite safe; and the eldest went up to her own bed and clapped her hands,\n",
      "and the bed sank into the floor and a trap-door flew open. The soldier\n",
      "saw them going down through the trap-door one after another, the eldest\n",
      "leading the way; and thinking he had no time to lose, he jumped up, put\n",
      "on the cloak which the old woman had given him, and followed them;\n",
      "but in the middle of the stairs he trod on the gown of the youngest\n",
      "princess, and she cried out to her sisters, ‘All is not right; someone\n",
      "took hold of my gown.’ ‘You silly creature!’ said the eldest, ‘it is\n",
      "nothing but a nail in the wall.’ Then down they all went, and at the\n",
      "bottom they found themselves in a most delightful grove of trees; and\n",
      "the leaves were all of silver, and glittered and sparkled beautifully.\n",
      "The soldier wished to take away some token of the place; so he broke\n",
      "off a little branch, and there came a loud noise from the tree. Then the\n",
      "youngest daughter said again, ‘I am sure all is not right--did not you\n",
      "hear that noise? That never happened before.’ But the eldest said, ‘It\n",
      "is only our princes, who are shouting for joy at our approach.’\n",
      "\n",
      "Then they came to another grove of trees, where all the leaves were of\n",
      "gold; and afterwards to a third, where the leaves were all glittering\n",
      "diamonds. And the soldier broke a branch from each; and every time there\n",
      "was a loud noise, which made the youngest sister tremble with fear; but\n",
      "the eldest still said, it was only the princes, who were crying for joy.\n",
      "So they went on till they came to a great lake; and at the side of the\n",
      "lake there lay twelve little boats with twelve handsome princes in them,\n",
      "who seemed to be waiting there for the princesses.\n",
      "\n",
      "One of the princesses went into each boat, and the soldier stepped into\n",
      "the same boat with the youngest. As they were rowing over the lake, the\n",
      "prince who was in the boat with the youngest princess and the soldier\n",
      "said, ‘I do not know why it is, but though I am rowing with all my might\n",
      "we do not get on so fast as usual, and I am quite tired: the boat\n",
      "seems very heavy today.’ ‘It is only the heat of the weather,’ said the\n",
      "princess: ‘I feel it very warm too.’\n",
      "\n",
      "On the other side of the lake stood a fine illuminated castle, from\n",
      "which came the merry music of horns and trumpets. There they all landed,\n",
      "and went into the castle, and each prince danced with his princess; and\n",
      "the soldier, who was all the time invisible, danced with them too; and\n",
      "when any of the princesses had a cup of wine set by her, he drank it\n",
      "all up, so that when she put the cup to her mouth it was empty. At this,\n",
      "too, the youngest sister was terribly frightened, but the eldest always\n",
      "silenced her. They danced on till three o’clock in the morning, and then\n",
      "all their shoes were worn out, so that they were obliged to leave off.\n",
      "The princes rowed them back again over the lake (but this time the\n",
      "soldier placed himself in the boat with the eldest princess); and on the\n",
      "opposite shore they took leave of each other, the princesses promising\n",
      "to come again the next night.\n",
      "\n",
      "When they came to the stairs, the soldier ran on before the princesses,\n",
      "and laid himself down; and as the twelve sisters slowly came up very\n",
      "much tired, they heard him snoring in his bed; so they said, ‘Now all\n",
      "is quite safe’; then they undressed themselves, put away their fine\n",
      "clothes, pulled off their shoes, and went to bed. In the morning the\n",
      "soldier said nothing about what had happened, but determined to see more\n",
      "of this strange adventure, and went again the second and third night;\n",
      "and every thing happened just as before; the princesses danced each time\n",
      "till their shoes were worn to pieces, and then returned home. However,\n",
      "on the third night the soldier carried away one of the golden cups as a\n",
      "token of where he had been.\n",
      "\n",
      "As soon as the time came when he was to declare the secret, he was taken\n",
      "before the king with the three branches and the golden cup; and the\n",
      "twelve princesses stood listening behind the door to hear what he would\n",
      "say. And when the king asked him. ‘Where do my twelve daughters dance at\n",
      "night?’ he answered, ‘With twelve princes in a castle under ground.’ And\n",
      "then he told the king all that had happened, and showed him the three\n",
      "branches and the golden cup which he had brought with him. Then the king\n",
      "called for the princesses, and asked them whether what the soldier said\n",
      "was true: and when they saw that they were discovered, and that it was\n",
      "of no use to deny what had happened, they confessed it all. And the king\n",
      "asked the soldier which of them he would choose for his wife; and he\n",
      "answered, ‘I am not very young, so I will have the eldest.’--And they\n",
      "were married that very day, and the soldier was chosen to be the king’s\n",
      "heir.\n"
     ]
    }
   ],
   "source": [
    "# accessing and reading '.txt' file\n",
    "with open(\"12dancingprincesses.txt\", encoding='cp1252') as file_object:\n",
    "    TextFile = file_object.read()\n",
    "    \n",
    "print(TextFile)"
   ]
  },
  {
   "cell_type": "code",
   "execution_count": 3,
   "metadata": {},
   "outputs": [],
   "source": [
    "# changing all the words in the file to lowercase\n",
    "LTextFile = TextFile.lower()"
   ]
  },
  {
   "cell_type": "code",
   "execution_count": 4,
   "metadata": {},
   "outputs": [],
   "source": [
    "# Tokenizing each part of the text and saving that in the list 'TLTextFile'\n",
    "TLTextFile = word_tokenize(LTextFile)"
   ]
  },
  {
   "cell_type": "code",
   "execution_count": 5,
   "metadata": {},
   "outputs": [
    {
     "data": {
      "text/plain": [
       "1849"
      ]
     },
     "execution_count": 5,
     "metadata": {},
     "output_type": "execute_result"
    }
   ],
   "source": [
    "# checking the number of tokenized items in the list\n",
    "len(TLTextFile)"
   ]
  },
  {
   "cell_type": "code",
   "execution_count": 6,
   "metadata": {},
   "outputs": [
    {
     "name": "stdout",
     "output_type": "stream",
     "text": [
      "['the', 'twelve', 'dancing', 'princesses', 'there', 'was', 'a', 'king', 'who', 'had', 'twelve', 'beautiful', 'daughters', '.', 'they', 'slept', 'in', 'twelve', 'beds', 'all', 'in', 'one', 'room', ';', 'and', 'when', 'they', 'went', 'to', 'bed', ',', 'the', 'doors', 'were', 'shut', 'and', 'locked', 'up', ';', 'but', 'every', 'morning', 'their', 'shoes', 'were', 'found', 'to', 'be', 'quite', 'worn', 'through', 'as', 'if', 'they', 'had', 'been', 'danced', 'in', 'all', 'night', ';', 'and', 'yet', 'nobody', 'could', 'find', 'out', 'how', 'it', 'happened', ',', 'or', 'where', 'they', 'had', 'been', '.', 'then', 'the', 'king', 'made', 'it', 'known', 'to', 'all', 'the', 'land', ',', 'that', 'if', 'any', 'person', 'could', 'discover', 'the', 'secret', ',', 'and', 'find', 'out']\n"
     ]
    }
   ],
   "source": [
    "# accessing the first 100 items in the list\n",
    "print(TLTextFile[:100])"
   ]
  },
  {
   "cell_type": "code",
   "execution_count": 7,
   "metadata": {},
   "outputs": [
    {
     "data": {
      "text/plain": [
       "'!\"#$%&\\'()*+,-./:;<=>?@[\\\\]^_`{|}~'"
      ]
     },
     "execution_count": 7,
     "metadata": {},
     "output_type": "execute_result"
    }
   ],
   "source": [
    "# checking characters in punctuation\n",
    "punctuation"
   ]
  },
  {
   "cell_type": "code",
   "execution_count": 8,
   "metadata": {},
   "outputs": [],
   "source": [
    "# adding the missing punctuations/special characters, which is in the text but not in the list of punctuations\n",
    "punctuation1 = punctuation + \"‘\" + \"’\" + \"‘\" + \"‘\" + \"‘\" + \"’\" + \"‘\" + \"’\" + \"’\" + \"’\" + \"‘\""
   ]
  },
  {
   "cell_type": "code",
   "execution_count": 9,
   "metadata": {},
   "outputs": [
    {
     "data": {
      "text/plain": [
       "'!\"#$%&\\'()*+,-./:;<=>?@[\\\\]^_`{|}~‘’‘‘‘’‘’’’‘'"
      ]
     },
     "execution_count": 9,
     "metadata": {},
     "output_type": "execute_result"
    }
   ],
   "source": [
    "# confirming the addition\n",
    "punctuation1"
   ]
  },
  {
   "cell_type": "code",
   "execution_count": 10,
   "metadata": {},
   "outputs": [],
   "source": [
    "# removing punctuations from the list\n",
    "for item in TLTextFile:\n",
    "    if item in punctuation1:\n",
    "        TLTextFile.remove(item)"
   ]
  },
  {
   "cell_type": "code",
   "execution_count": 11,
   "metadata": {},
   "outputs": [
    {
     "data": {
      "text/plain": [
       "1644"
      ]
     },
     "execution_count": 11,
     "metadata": {},
     "output_type": "execute_result"
    }
   ],
   "source": [
    "# checking the number of items in the list\n",
    "len(TLTextFile)"
   ]
  },
  {
   "cell_type": "code",
   "execution_count": 12,
   "metadata": {},
   "outputs": [
    {
     "name": "stdout",
     "output_type": "stream",
     "text": [
      "['the', 'twelve', 'dancing', 'princesses', 'there', 'was', 'a', 'king', 'who', 'had', 'twelve', 'beautiful', 'daughters', 'they', 'slept', 'in', 'twelve', 'beds', 'all', 'in', 'one', 'room', 'and', 'when', 'they', 'went', 'to', 'bed', 'the', 'doors', 'were', 'shut', 'and', 'locked', 'up', 'but', 'every', 'morning', 'their', 'shoes', 'were', 'found', 'to', 'be', 'quite', 'worn', 'through', 'as', 'if', 'they', 'had', 'been', 'danced', 'in', 'all', 'night', 'and', 'yet', 'nobody', 'could', 'find', 'out', 'how', 'it', 'happened', 'or', 'where', 'they', 'had', 'been', 'then', 'the', 'king', 'made', 'it', 'known', 'to', 'all', 'the', 'land', 'that', 'if', 'any', 'person', 'could', 'discover', 'the', 'secret', 'and', 'find', 'out', 'where', 'it', 'was', 'that', 'the', 'princesses', 'danced', 'in', 'the']\n"
     ]
    }
   ],
   "source": [
    "# getting the list of first 100 items\n",
    "print(TLTextFile[:100])"
   ]
  },
  {
   "cell_type": "code",
   "execution_count": 13,
   "metadata": {},
   "outputs": [
    {
     "name": "stdout",
     "output_type": "stream",
     "text": [
      "['i', 'me', 'my', 'myself', 'we', 'our', 'ours', 'ourselves', 'you', \"you're\", \"you've\", \"you'll\", \"you'd\", 'your', 'yours', 'yourself', 'yourselves', 'he', 'him', 'his', 'himself', 'she', \"she's\", 'her', 'hers', 'herself', 'it', \"it's\", 'its', 'itself', 'they', 'them', 'their', 'theirs', 'themselves', 'what', 'which', 'who', 'whom', 'this', 'that', \"that'll\", 'these', 'those', 'am', 'is', 'are', 'was', 'were', 'be', 'been', 'being', 'have', 'has', 'had', 'having', 'do', 'does', 'did', 'doing', 'a', 'an', 'the', 'and', 'but', 'if', 'or', 'because', 'as', 'until', 'while', 'of', 'at', 'by', 'for', 'with', 'about', 'against', 'between', 'into', 'through', 'during', 'before', 'after', 'above', 'below', 'to', 'from', 'up', 'down', 'in', 'out', 'on', 'off', 'over', 'under', 'again', 'further', 'then', 'once', 'here', 'there', 'when', 'where', 'why', 'how', 'all', 'any', 'both', 'each', 'few', 'more', 'most', 'other', 'some', 'such', 'no', 'nor', 'not', 'only', 'own', 'same', 'so', 'than', 'too', 'very', 's', 't', 'can', 'will', 'just', 'don', \"don't\", 'should', \"should've\", 'now', 'd', 'll', 'm', 'o', 're', 've', 'y', 'ain', 'aren', \"aren't\", 'couldn', \"couldn't\", 'didn', \"didn't\", 'doesn', \"doesn't\", 'hadn', \"hadn't\", 'hasn', \"hasn't\", 'haven', \"haven't\", 'isn', \"isn't\", 'ma', 'mightn', \"mightn't\", 'mustn', \"mustn't\", 'needn', \"needn't\", 'shan', \"shan't\", 'shouldn', \"shouldn't\", 'wasn', \"wasn't\", 'weren', \"weren't\", 'won', \"won't\", 'wouldn', \"wouldn't\"]\n"
     ]
    }
   ],
   "source": [
    "# getting the list of english stopwords\n",
    "eng_stopwords = stopwords.words('english')\n",
    "print(eng_stopwords)"
   ]
  },
  {
   "cell_type": "code",
   "execution_count": 14,
   "metadata": {},
   "outputs": [],
   "source": [
    "# removing the english stopwords from the list\n",
    "removed_words_count = 0\n",
    "NTextFile = []\n",
    "\n",
    "for item in TLTextFile:\n",
    "    if item not in eng_stopwords:\n",
    "        NTextFile.append(item)\n",
    "    else:\n",
    "        removed_words_count += 1"
   ]
  },
  {
   "cell_type": "code",
   "execution_count": 15,
   "metadata": {},
   "outputs": [
    {
     "data": {
      "text/plain": [
       "700"
      ]
     },
     "execution_count": 15,
     "metadata": {},
     "output_type": "execute_result"
    }
   ],
   "source": [
    "# checking the number of items in the list after removing english stopwords\n",
    "len(NTextFile)"
   ]
  },
  {
   "cell_type": "code",
   "execution_count": 16,
   "metadata": {},
   "outputs": [
    {
     "name": "stdout",
     "output_type": "stream",
     "text": [
      "['twelve', 'dancing', 'princesses', 'king', 'twelve', 'beautiful', 'daughters', 'slept', 'twelve', 'beds', 'one', 'room', 'went', 'bed', 'doors', 'shut', 'locked', 'every', 'morning', 'shoes', 'found', 'quite', 'worn', 'danced', 'night', 'yet', 'nobody', 'could', 'find', 'happened', 'king', 'made', 'known', 'land', 'person', 'could', 'discover', 'secret', 'find', 'princesses', 'danced', 'night', 'one', 'liked', 'best', 'wife', 'king', 'death', 'whoever', 'tried', 'succeed', 'three', 'days', 'nights', 'put', 'death', 'king', 'son', 'soon', 'came', 'well', 'entertained', 'evening', 'taken', 'chamber', 'next', 'one', 'princesses', 'lay', 'twelve', 'beds', 'sit', 'watch', 'went', 'dance', 'order', 'nothing', 'might', 'pass', 'without', 'hearing', 'door', 'chamber', 'left', 'open', 'king', 'son', 'soon', 'fell', 'asleep', 'awoke', 'morning', 'found', 'princesses', 'dancing', 'soles', 'shoes', 'full', 'holes', 'thing']\n"
     ]
    }
   ],
   "source": [
    "# checking the first 100 items to confirm the punctuations are removed\n",
    "print(NTextFile[:100])"
   ]
  },
  {
   "cell_type": "code",
   "execution_count": 17,
   "metadata": {},
   "outputs": [
    {
     "data": {
      "text/plain": [
       "944"
      ]
     },
     "execution_count": 17,
     "metadata": {},
     "output_type": "execute_result"
    }
   ],
   "source": [
    "# getting the total number of removed english stopwords\n",
    "removed_words_count"
   ]
  },
  {
   "cell_type": "code",
   "execution_count": 18,
   "metadata": {},
   "outputs": [
    {
     "data": {
      "text/plain": [
       "[('‘', 21),\n",
       " ('soldier', 19),\n",
       " ('princesses', 17),\n",
       " ('said', 16),\n",
       " ('king', 15),\n",
       " ('twelve', 11),\n",
       " ('went', 11),\n",
       " ('came', 10),\n",
       " ('eldest', 10),\n",
       " ('one', 7),\n",
       " ('night', 7)]"
      ]
     },
     "execution_count": 18,
     "metadata": {},
     "output_type": "execute_result"
    }
   ],
   "source": [
    "# getting the frequency distribution of the words and the top 11 words\n",
    "FredDistOfNewWords = FreqDist(NTextFile)\n",
    "FredDistOfNewWords.most_common(11)"
   ]
  },
  {
   "cell_type": "raw",
   "metadata": {},
   "source": [
    "Note: I do not know why ven after trying to removing the special characters (see codes in lines 7 - 9), the topmost character in the above list consistently exists."
   ]
  },
  {
   "cell_type": "code",
   "execution_count": null,
   "metadata": {},
   "outputs": [],
   "source": []
  }
 ],
 "metadata": {
  "kernelspec": {
   "display_name": "Python 3",
   "language": "python",
   "name": "python3"
  },
  "language_info": {
   "codemirror_mode": {
    "name": "ipython",
    "version": 3
   },
   "file_extension": ".py",
   "mimetype": "text/x-python",
   "name": "python",
   "nbconvert_exporter": "python",
   "pygments_lexer": "ipython3",
   "version": "3.7.4"
  }
 },
 "nbformat": 4,
 "nbformat_minor": 2
}
